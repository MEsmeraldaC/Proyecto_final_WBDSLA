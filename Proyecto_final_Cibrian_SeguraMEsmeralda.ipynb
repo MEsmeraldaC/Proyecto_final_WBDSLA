{
  "nbformat": 4,
  "nbformat_minor": 0,
  "metadata": {
    "colab": {
      "provenance": []
    },
    "kernelspec": {
      "name": "python3",
      "display_name": "Python 3"
    },
    "language_info": {
      "name": "python"
    }
  },
  "cells": [
    {
      "cell_type": "markdown",
      "source": [
        "##Proyecto final para CAMP Women in Bioinformatics and Data Science. \n",
        "\n",
        "Elaborado por Marcela Esmeralda Cibrian Segura, el siguiente trabajo esta basado en el ejemplo 1 de ATGenomics. "
      ],
      "metadata": {
        "id": "MjsLUJ-iDPMX"
      }
    },
    {
      "cell_type": "markdown",
      "source": [
        "El objetivo principal del presente trabajo es \n",
        "\n",
        "\n",
        "*   Busqueda de secuencias codificantes de proteínas asociadas a la resistencia antimicrobiana en *Pseudomonas aeruginosa*. \n",
        "\n",
        "\n",
        "Los objetivos especificos son:\n",
        "\n",
        "\n",
        "*   Predicción de genes en genomas bacterianos.\n",
        "*   Búsqueda de secuencias proteícas en bases de datos.\n",
        "*   Búsqueda de secuencias homólogas usando BLAST.\n",
        "*   Búsqueda de dominios funcionales en proteinas seleccionadas. \n",
        "\n",
        "\n",
        "\n"
      ],
      "metadata": {
        "id": "w2IexR-dD6tJ"
      }
    },
    {
      "cell_type": "markdown",
      "source": [
        "#Preparación del entorno"
      ],
      "metadata": {
        "id": "8aiIcuxbdHN2"
      }
    },
    {
      "cell_type": "markdown",
      "source": [
        "Para que el notebook funcione adecuadamente se debe llenar el archivo credentials.py con un correo electrónico y la API key que proporciona NCBI a sus usuarios registrados. \n",
        "\n",
        "Con el siguiente código cargamos las bibliotecas necesarias para que todo el código del notebook funcione.\n",
        "\n",
        "Para ello se requiere de la instalación de los siguientes paquetes:\n",
        "*\t**Pandas** para manejo general de datos \n",
        "*\t**pyCirclize** para visualizar nuestros datos genómicos\n",
        "*\t**pyrodigal** para la predicción de genes codificantes\n",
        "*\t**requests** para interactuar con las APIs de NCBI, UniProt e InterProScan\n",
        "*\t**seaborn** para visualizar algunas de las propiedades genómicas obtenidas\n",
        "*\t**subprocess** ejecutar comandos fuera del entorno de python\n",
        "*\t**BioPython** para el manejo de secuencias\n",
        "*\t**io** para conectar las entradas y salidas de los distintos programas\n",
        "\n",
        "Además de la instalación local de BLAST+, se puede obtener mayor información a tráves del siguiente link: https://www.ncbi.nlm.nih.gov/books/NBK569861/ y el paquete a descargar de acuerdo a su sistemas operativo aqui ftp://ftp.ncbi.nlm.nih.gov/blast/executables/blast+/LATEST/\n"
      ],
      "metadata": {
        "id": "3reK3OnAdNWw"
      }
    },
    {
      "cell_type": "markdown",
      "source": [
        "Para la instalación de las bibliotecas mencionadas puede ejecutar los siguientes comandos:"
      ],
      "metadata": {
        "id": "qdoaMNWndt9q"
      }
    },
    {
      "cell_type": "code",
      "execution_count": null,
      "metadata": {
        "id": "HVwqBLJEMzal"
      },
      "outputs": [],
      "source": [
        "pip3 install matplotlib\n",
        "pip3 install pandas\n",
        "pip3 install pycirclize\n",
        "pip3 install pyrodigal\n",
        "pip3 install requests\n",
        "pip3 install seaborn\n",
        "pip3 install biopython"
      ]
    },
    {
      "cell_type": "code",
      "source": [
        "import credentials\n",
        "import pandas as pd\n",
        "import matplotlib.pyplot as plt\n",
        "import numpy  as np\n",
        "import pyrodigal\n",
        "import requests\n",
        "import seaborn as sns\n",
        "import subprocess\n",
        "import sys\n",
        "from Bio import SeqIO\n",
        "from Bio import Entrez\n",
        "from io                 import StringIO\n",
        "from matplotlib.patches import Patch\n",
        "from pycirclize         import Circos\n",
        "from pycirclize.parser  import Gff\n",
        "from requests.adapters  import HTTPAdapter, Retry"
      ],
      "metadata": {
        "id": "iimMaMvLd-Aq"
      },
      "execution_count": null,
      "outputs": []
    },
    {
      "cell_type": "markdown",
      "source": [
        "#1. Obtención de una secuencia genómica. \n",
        "\n",
        "Se busco en el NCBI-Genome utilizando el filtro de genoma completo a *Pseudomonas aeruginosa*, que se sabe que es un organismo ambiental Gram-negativo común. Puede ser un factor patógeno significativo de infecciones graves en humanos, especialmente en pacientes con fibrosis quística. Debido a su **resistencia natural** a los antibióticos y la capacidad de formar biopelículas, la infección por este patógeno puede causar graves problemas terapéuticos. Por lo tanto se buscaran genes asociados a la resistencia antimicrobiana de esta especie. \n",
        "\n",
        "Para este caso se utilizó el ensamble ASM76324v3, y se buscó genes de resistencia antibioticos en el cromosoma con número de acceso CP021380.2. \n"
      ],
      "metadata": {
        "id": "-AHih4XFec6m"
      }
    },
    {
      "cell_type": "markdown",
      "source": [
        "Con el siguiente código se puede descargar el genoma en formato genbank. "
      ],
      "metadata": {
        "id": "Lrabtpq9c3bL"
      }
    },
    {
      "cell_type": "code",
      "source": [
        "accession = \"CP021380.2\"\n",
        "genome = Entrez.efetch(db=\"nucleotide\",\n",
        "                       id=accession,\n",
        "                       format=\"gb\",\n",
        "                       rettype=\"text\")\n",
        "record = SeqIO.read(genome, \"genbank\")\n",
        "genome_length = len(record.seq)"
      ],
      "metadata": {
        "id": "OcgkNpCagnjo"
      },
      "execution_count": null,
      "outputs": []
    },
    {
      "cell_type": "markdown",
      "source": [
        "#2. Predicción de genes usando pyrodigal"
      ],
      "metadata": {
        "id": "FFbuXRy9ec33"
      }
    },
    {
      "cell_type": "markdown",
      "source": [
        "En este paso se ocupó pyrodigal que se puede integrar facilmente en python. \n",
        "\n",
        "Con el siguiente código, almacenó las secuencias aminoacídicas de los genes predichos en un nuevo archivo CP021380.2.faa y las coordenadas de los genes predichos en un archivo CP021380.2.gff. \n",
        "\n",
        "Para el genoma de *Pseudomonas aeruginosa* se utilizó el prefijo Pseudomonas_a."
      ],
      "metadata": {
        "id": "YHmHLZHemsQR"
      }
    },
    {
      "cell_type": "code",
      "source": [
        "orf_finder = pyrodigal.OrfFinder()\n",
        "orf_finder.train(bytes(record.seq))\n",
        "orf_genes  = orf_finder.find_genes(bytes(record.seq))"
      ],
      "metadata": {
        "id": "k6MPsR1GidUS"
      },
      "execution_count": null,
      "outputs": []
    },
    {
      "cell_type": "code",
      "source": [
        "aa_file = accession + \".faa\"\n",
        "prefix  = \"Pseudomonas_a\"\n",
        "with open(aa_file, \"w\") as orf_gene:\n",
        "    orf_genes.write_translations(orf_gene,sequence_id=prefix)"
      ],
      "metadata": {
        "id": "FI3rodlDiWei"
      },
      "execution_count": null,
      "outputs": []
    },
    {
      "cell_type": "code",
      "source": [
        "gff_file = accession + \".gff\"\n",
        "prefix  = \"Pseudomonas_a\"\n",
        "with open(gff_file, \"w\") as orf_gene:\n",
        "    orf_genes.write_gff(orf_gene,sequence_id=prefix)"
      ],
      "metadata": {
        "id": "bJJwY5nWiifT"
      },
      "execution_count": null,
      "outputs": []
    },
    {
      "cell_type": "markdown",
      "source": [
        "#3.Obtención de un set de secuencias de referencia"
      ],
      "metadata": {
        "id": "opV8bp6hec02"
      }
    },
    {
      "cell_type": "markdown",
      "source": [
        "Se utilizó la API de UniProt para poder descargar los genes de referencia de la resistencia a antibioticos. Para ello se utilizó request para mantener todo nuestro código en el notebook de python. Asi como también con el siguiente código podemos descargar secuencias de UniProt en el objeto uniprot_ref_seqs. \n",
        "\n",
        "En el query se incluye la seccion de de **reviewed** oara aumentar la confiabilidad de los resultados. "
      ],
      "metadata": {
        "id": "rgTBp_WKvfBA"
      }
    },
    {
      "cell_type": "code",
      "source": [
        "uniprot_api_url  = \"https://rest.uniprot.org/uniprotkb/stream\"\n",
        "uniprot_api_args = {\"compressed\" : \"false\",\n",
        "                    \"format\"     : \"fasta\",\n",
        "                    \"query\"      : \"(antibiotic resistance) AND (reviewed:true)\"}\n",
        "uniprot_ref_seqs = requests.get(uniprot_api_url,params=uniprot_api_args).text"
      ],
      "metadata": {
        "id": "pKVuSVQiioiC"
      },
      "execution_count": null,
      "outputs": []
    },
    {
      "cell_type": "markdown",
      "source": [
        "#4. Creación de una base de datos tipo BLAST"
      ],
      "metadata": {
        "id": "5n6hf35khHy4"
      }
    },
    {
      "cell_type": "markdown",
      "source": [
        "A partir de las secuencias aminoacídicas de las predicciones de pyrodigal, se creo una base de datos tipo BLAST que se utilizó para pescar secuencias similares a las secuencias obtenidas en UniProt. "
      ],
      "metadata": {
        "id": "GahlRcwHvX0b"
      }
    },
    {
      "cell_type": "code",
      "source": [
        "uniprot_seqs_file = open(\"uniprot_sequences.fasta\", \"wt\")\n",
        "uniprot_seqs_file.write(uniprot_ref_seqs)\n",
        "uniprot_seqs_file.close()"
      ],
      "metadata": {
        "id": "HpKUiDhsis-Y"
      },
      "execution_count": null,
      "outputs": []
    },
    {
      "cell_type": "code",
      "source": [
        "! head uniprot_sequences.fasta"
      ],
      "metadata": {
        "id": "smzIFVAgiscU"
      },
      "execution_count": null,
      "outputs": []
    },
    {
      "cell_type": "markdown",
      "source": [
        "Para la variable makeblastdb_path se debera poner la direccion donde se encuentre su programa de \"makeblastdb\"."
      ],
      "metadata": {
        "id": "t7fHzHhQybvl"
      }
    },
    {
      "cell_type": "code",
      "source": [
        "makeblastdb_path = \"/home/esme/Descargas/ncbi-blast-2.13.0+/bin/makeblastdb\"\n",
        "makeblastdb_command = [makeblastdb_path,'-in',aa_file,'-dbtype','prot']\n",
        "subprocess.call(makeblastdb_command)\n",
        "\n",
        "#Building a new DB, current time: 03/16/2023 19:15:07\n",
        "#New DB name:   /home/esme/Descargas/CP021380.2.faa\n",
        "#New DB title:  CP021380.2.faa\n",
        "#Sequence type: Protein\n",
        "#Deleted existing Protein BLAST database named /home/esme/Descargas/CP021380.2.faa\n",
        "#Keep MBits: T\n",
        "#Maximum file size: 3000000000B\n",
        "#Adding sequences from FASTA; added 6324 sequences in 0.150203 seconds.\n",
        "\n",
        "\n",
        "0"
      ],
      "metadata": {
        "id": "Fblb04KXiygj"
      },
      "execution_count": null,
      "outputs": []
    },
    {
      "cell_type": "markdown",
      "source": [
        "#5. Obtención de secuencias de interés en el genoma analizado"
      ],
      "metadata": {
        "id": "Gtd07shLgrgg"
      }
    },
    {
      "cell_type": "code",
      "source": [
        "blastp_path       = \"/home/esme/Descargas/ncbi-blast-2.13.0+/bin/blastp\"\n",
        "blastp_out_format = \"6 qseqid sseqid qlen slen qstart sstart qend send score evalue length positive\"\n",
        "blastp_out_file   = accession + \".blast.tsv\"\n",
        "blastp_command    = [blastp_path,\n",
        "                     \"-db\",          aa_file,\n",
        "                     \"-query\",       \"uniprot_sequences.fasta\",\n",
        "                     \"-evalue\",      \"1e-9\",\n",
        "                     \"-out\",         blastp_out_file,\n",
        "                     \"-outfmt\",      blastp_out_format,\n",
        "                     \"-num_threads\", \"8\"]\n",
        "subprocess.call(blastp_command)\n",
        "\n",
        "0"
      ],
      "metadata": {
        "id": "Of8vniHri4hA"
      },
      "execution_count": null,
      "outputs": []
    },
    {
      "cell_type": "markdown",
      "source": [
        "En código anterior llama a BLAST y se obtuvo una tabla .tsv con los resultados de la comparación. "
      ],
      "metadata": {
        "id": "lJT7GserzIZj"
      }
    },
    {
      "cell_type": "code",
      "source": [
        "makeblastdb_path = \"/home/esme/Descargas/ncbi-blast-2.13.0+/bin/makeblastdb\"\n",
        "makeblastdb_command = [makeblastdb_path,'-in',\"uniprot_sequences.fasta\",'-dbtype','prot']\n",
        "subprocess.call(makeblastdb_command)\n",
        "blastp_path      = \"/home/esme/Descargas/ncbi-blast-2.13.0+/bin/blastp\"\n",
        "blast_out_format = \"6 qseqid sseqid qlen slen qstart sstart qend send score evalue length positive\"\n",
        "blast_out_file   = \"uniprot_sequences.blast.tsv\"\n",
        "blastp_command   = [blastp_path,\n",
        "                    \"-db\",          \"uniprot_sequences.fasta\",\n",
        "                    \"-query\",       aa_file,\n",
        "                    \"-evalue\",      \"1e-9\",\n",
        "                    \"-out\",         blast_out_file,\n",
        "                    \"-outfmt\",      blast_out_format,\n",
        "                    \"-num_threads\", \"8\"]\n",
        "subprocess.call(blastp_command)\n",
        "\n",
        "#Building a new DB, current time: 03/16/2023 19:38:14\n",
        "#New DB name:   /home/esme/Descargas/uniprot_sequences.fasta\n",
        "#New DB title:  uniprot_sequences.fasta\n",
        "#Sequence type: Protein\n",
        "#Deleted existing Protein BLAST database named /home/esme/Descargas/uniprot_sequences.fasta\n",
        "#Keep MBits: T\n",
        "#Maximum file size: 3000000000B\n",
        "#Adding sequences from FASTA; added 2714 sequences in 0.0612409 seconds.\n",
        "\n",
        "\n",
        "0"
      ],
      "metadata": {
        "id": "4LZkTTMsjJPV"
      },
      "execution_count": null,
      "outputs": []
    },
    {
      "cell_type": "markdown",
      "source": [
        "De igual forma se realizó la comparación de las secuencias obtenidas del genoma contra las secuencias de Uniprot, usando el código anterior. El resultado que arroja es que se añaden 2714 secuencias al FASTA que estan relacionados con la resistencia antimicrobiana. "
      ],
      "metadata": {
        "id": "cBPdtA7pzulc"
      }
    },
    {
      "cell_type": "code",
      "source": [],
      "metadata": {
        "id": "QLXA76ppzbiN"
      },
      "execution_count": null,
      "outputs": []
    },
    {
      "cell_type": "markdown",
      "source": [
        "#6. Examinación de los resultados de la búsqueda tipo BLAST"
      ],
      "metadata": {
        "id": "kYkPngiIeckN"
      }
    },
    {
      "cell_type": "markdown",
      "source": [
        "Con el siguiente código se le da formato al dataframe que se obtuvo del BLAST y se importó a Pandas para poder empezar a ver los resultados y hacer \"limpieza\". \n",
        "\n"
      ],
      "metadata": {
        "id": "qF076Bnh0P4B"
      }
    },
    {
      "cell_type": "code",
      "source": [
        "blastp_column_names = blastp_out_format.split(\" \")[1:]\n",
        "blastp_df = pd.read_csv(blastp_out_file,sep=\"\\t\",names=blastp_column_names)\n",
        "blastp_df"
      ],
      "metadata": {
        "id": "DNxm6TxIjLgz"
      },
      "execution_count": null,
      "outputs": []
    },
    {
      "cell_type": "markdown",
      "source": [
        "En el genoma de interés encontramos 722 proteínas potencialmente asociadas con resistencia a antibioticos, no obstante, no todas las secuencias podrían ser de nuestro interés"
      ],
      "metadata": {
        "id": "WAbGhWzx0h4b"
      }
    },
    {
      "cell_type": "code",
      "source": [
        "candidate_genes=blastp_df[\"sseqid\"].unique().tolist()\n",
        "len(candidate_genes)\n",
        "#722"
      ],
      "metadata": {
        "id": "TTrfZMsrjUpz"
      },
      "execution_count": null,
      "outputs": []
    },
    {
      "cell_type": "markdown",
      "source": [
        "A través de la biblioteca pyCirclize podemos visualizar los genes que fueron identificados en el paso anterior, pero primero debemos transformar la información que tenemos a un formato legible para pyCirclize. "
      ],
      "metadata": {
        "id": "8vRh3Vv-1DsZ"
      }
    },
    {
      "cell_type": "code",
      "source": [
        "gff_columns     = [\"chr\",\"source\",\"feature_type\",\"start\",\"end\",\"score\",\"strand\",\"phase\",\"info\"]\n",
        "gff_df          = pd.read_csv(gff_file,sep=\"\\t\",comment=\"#\",header=None,names=gff_columns)\n",
        "gff_df[\"start\"] = gff_df[\"start\"].astype(int)\n",
        "gff_df[\"end\"]   = gff_df[\"end\"].astype(int)\n"
      ],
      "metadata": {
        "id": "4upJHDkIkBhh"
      },
      "execution_count": null,
      "outputs": []
    },
    {
      "cell_type": "code",
      "source": [
        "gff_df"
      ],
      "metadata": {
        "id": "Maf0LxF4kEyB"
      },
      "execution_count": null,
      "outputs": []
    },
    {
      "cell_type": "markdown",
      "source": [
        "Con el siguiente código definimos una funcion que nos ayuda a separar el texto de la columna \"info\" del dataframe anterior y sea más facil de manejar con Pandas. "
      ],
      "metadata": {
        "id": "MFEc0XIv1Nzu"
      }
    },
    {
      "cell_type": "code",
      "source": [
        "def get_gff_info(info_str):\n",
        "    out_dict = {}\n",
        "    info_arr = info_str.split(\";\")\n",
        "    for line in info_arr:\n",
        "        if \"=\" in line:\n",
        "            line_arr    = line.split(\"=\")\n",
        "            field_name  = line_arr[0]\n",
        "            field_value = line_arr[1]\n",
        "            out_dict[field_name] = field_value\n",
        "    return out_dict"
      ],
      "metadata": {
        "id": "I-YOlFDPkI1S"
      },
      "execution_count": null,
      "outputs": []
    },
    {
      "cell_type": "code",
      "source": [
        "gff_df[\"annotation\"] = gff_df[\"info\"].apply(lambda x: get_gff_info(x))"
      ],
      "metadata": {
        "id": "IjJeQT81kMmY"
      },
      "execution_count": null,
      "outputs": []
    },
    {
      "cell_type": "code",
      "source": [
        "gff_df[\"annotation\"][0][\"ID\"]\n",
        "#'Pseudomonas_a_1'"
      ],
      "metadata": {
        "id": "VL7Hj9knkPQv"
      },
      "execution_count": null,
      "outputs": []
    },
    {
      "cell_type": "markdown",
      "source": [
        "Filtrado de datos para incluir solamente los genes identificados como asociados a la resistencia antimicrobiana."
      ],
      "metadata": {
        "id": "tnYRhZNtkUzH"
      }
    },
    {
      "cell_type": "code",
      "source": [
        "gff_df[\"candidate\"] = gff_df[\"annotation\"].apply(lambda x: \"include\" if x[\"ID\"] in candidate_genes else \"exclude\")"
      ],
      "metadata": {
        "id": "0rogNBA7kPbS"
      },
      "execution_count": null,
      "outputs": []
    },
    {
      "cell_type": "code",
      "source": [
        "gff_df"
      ],
      "metadata": {
        "id": "ivY3s5pqkgUc"
      },
      "execution_count": null,
      "outputs": []
    },
    {
      "cell_type": "markdown",
      "source": [
        "6.1.4 El resultado lo almacenamos en un nuevo archivo gff para que pyCirclize visualice unicamente los genes de interés"
      ],
      "metadata": {
        "id": "JnHNb8ZUkn99"
      }
    },
    {
      "cell_type": "code",
      "source": [
        "candidate_df = gff_df.copy()\n",
        "candidate_df = candidate_df[candidate_df[\"candidate\"]==\"include\"][gff_columns]\n",
        "candidate_df.to_csv(\"candidates.gff\",sep=\"\\t\",header=False,index=False)\n",
        "candidate_df"
      ],
      "metadata": {
        "id": "zvMbIgeWkkQQ"
      },
      "execution_count": null,
      "outputs": []
    },
    {
      "cell_type": "markdown",
      "source": [
        "6.1.5 Visualización de los datos con pyCirclize. \n",
        "\n",
        "Con el siguiente código construiremos distintos objetos para obtener un mapa circular que nos permitirá identificar manualmente potenciales operones en el genoma de *Pseudomonas aeruginosa*"
      ],
      "metadata": {
        "id": "-1umwsB1ktC4"
      }
    },
    {
      "cell_type": "code",
      "source": [
        "circos = Circos(sectors={accession: genome_length})\n",
        "circos.text(\"Pseudomonas aeruginosa\")\n",
        "circos_gff = Gff(gff_file=\"candidates.gff\")\n",
        "sector = circos.get_sector(accession)\n",
        "sector = circos.sectors[0]\n",
        "cds_track = sector.add_track((80, 100))\n",
        "cds_track.axis(fc=\"#EEEEEE\", ec=\"none\")\n",
        "cds_track.genomic_features(circos_gff.extract_features(\"CDS\", target_strand =  1), r_lim=(90, 100),fc=\"red\" )\n",
        "cds_track.genomic_features(circos_gff.extract_features(\"CDS\", target_strand = -1), r_lim=(80,  90),fc=\"blue\")\n",
        "pos_list, labels = [], []\n",
        "cds_track.xticks_by_interval(\n",
        "    interval=500000,\n",
        "    label_formatter=lambda label_value: f\"{label_value/ 1000000:.1f} Mb\",\n",
        "    label_orientation=\"vertical\")\n",
        "fig = circos.plotfig().set_figwidth(5)"
      ],
      "metadata": {
        "id": "r4NmwM63kqZA"
      },
      "execution_count": null,
      "outputs": []
    },
    {
      "cell_type": "markdown",
      "source": [
        "Visualización de los datos con seaborn\n",
        "\n",
        "De igual forma se realizó una examinación más exhaustiva, con seadborn con una  serie de swarmplots en donde podemos comparar las posiciones de los genes en el dataframe completo, separando por categorias (\"genes candidatos\" vs \"genes no candidatos\") y por cadena (\"+\" vs \"-\").\n",
        "\n",
        "Con esta aproximación podemos identificar un par de operones enriquecido en genes candidatos, siendo el operón ubicado en la cadena negativa entre 0.6 Mbp y 0.8 Mbp"
      ],
      "metadata": {
        "id": "h76tj2UIk27U"
      }
    },
    {
      "cell_type": "code",
      "source": [
        "num_bins = 25\n",
        "counter_1 = 0\n",
        "counter_2 = 0\n",
        "fig, axes = plt.subplots(5,5,figsize=(30,30))\n",
        "bin_len  = (genome_length - (genome_length % (num_bins - 1))) / (num_bins)\n",
        "for bin_num in range(num_bins):\n",
        "    start_pos = bin_num * bin_len\n",
        "    end_pos   = (bin_num + 1) * bin_len\n",
        "    mb_df = gff_df.copy()\n",
        "    mb_df = mb_df[(mb_df[\"start\"]>start_pos) & (mb_df[\"end\"]<=end_pos)]\n",
        "    sns.swarmplot(ax = axes[counter_1,counter_2],data = mb_df,y=\"candidate\",x=\"start\",hue=\"strand\",dodge=True,order=[\"exclude\",\"include\"],hue_order=[\"+\",\"-\"])\n",
        "    axes[counter_1,counter_2].set(ylabel=None)\n",
        "    counter_2 += 1\n",
        "    if (counter_2%5 == 0):\n",
        "        counter_2 = 0\n",
        "        counter_1 += 1\n",
        "plt.show()"
      ],
      "metadata": {
        "id": "ScqY719kk2mg"
      },
      "execution_count": null,
      "outputs": []
    },
    {
      "cell_type": "markdown",
      "source": [
        "Como se observa en ambos graficos en la en el intervalo de 0.6-0.8 Mb se puede distinguir un posibles genes relacionado con la resistencia a antiobioticos en este microorganismo. "
      ],
      "metadata": {
        "id": "7VQcYBTd6-lM"
      }
    },
    {
      "cell_type": "markdown",
      "source": [
        "#7. Examinación a detalle del genes seleccionados"
      ],
      "metadata": {
        "id": "xmlB-R0KhWRf"
      }
    },
    {
      "cell_type": "markdown",
      "source": [
        "Los genomas procarióticos están usualmente organizados en unidades operacionales llamadas operones, en donde los genes se encuentran muy proximos entre sí y en la misma cadena de DNA. Sin embargo, en la resistencia a antibioticos se sabe que se relacionan con elementos genéticos móviles, como plásmidos, transposones e integrones. Por lo que en este caso no se buscará un operón en especifico pero si los genes que se encuentran relacionados con la resistencia. "
      ],
      "metadata": {
        "id": "zLjr1yZR61O-"
      }
    },
    {
      "cell_type": "code",
      "source": [
        "operon_df = gff_df.copy()\n",
        "operon_df = operon_df[(operon_df[\"start\"]     >= 600000) &\n",
        "                      (operon_df[\"end\"]       <= 800000) &\n",
        "                      (operon_df[\"strand\"]    == \"-\")     &\n",
        "                      (operon_df[\"candidate\"] == \"include\")]\n",
        "operon_df.reset_index(drop=True, inplace=True)"
      ],
      "metadata": {
        "id": "CVVJWjsHlTIv"
      },
      "execution_count": null,
      "outputs": []
    },
    {
      "cell_type": "code",
      "source": [
        "len(operon_df)\n",
        "#6"
      ],
      "metadata": {
        "id": "MGAy6yN9lany"
      },
      "execution_count": null,
      "outputs": []
    },
    {
      "cell_type": "code",
      "source": [
        "operon_gene_list = []\n",
        "for index in operon_df.index.tolist():\n",
        "    gene_id = operon_df[\"annotation\"][index][\"ID\"]\n",
        "    operon_gene_list.append(gene_id)"
      ],
      "metadata": {
        "id": "vU6wFAqSlhqN"
      },
      "execution_count": null,
      "outputs": []
    },
    {
      "cell_type": "code",
      "source": [
        "operon_gene_list\n",
        "#['Psedomonas_a_591',\n",
        "# 'Psedomonas_a_608',\n",
        "# 'Psedomonas_a_673',\n",
        "# 'Psedomonas_a_681',\n",
        "# 'Psedomonas_a_730',\n",
        "# 'Psedomonas_a_733']"
      ],
      "metadata": {
        "id": "xG8h3PUDlkHp"
      },
      "execution_count": null,
      "outputs": []
    },
    {
      "cell_type": "markdown",
      "source": [
        "Posteriormente, construiremos un string que contendrá las secuencias aminoacídicas de los genes de interés en formato fasta. \n",
        "\n",
        "Este string lo enviaremos al servicio web de InterProScan para buscar dominios conservados en nuestras proteínas. Eliminando los astericos de las secuencias. \n"
      ],
      "metadata": {
        "id": "a7ptI7joA4y6"
      }
    },
    {
      "cell_type": "code",
      "source": [
        "query_str = \"\""
      ],
      "metadata": {
        "id": "ymPy07dSlzsV"
      },
      "execution_count": null,
      "outputs": []
    },
    {
      "cell_type": "code",
      "source": [
        "for record in SeqIO.parse(aa_file, \"fasta\"):\n",
        "    seq_id  = record.id\n",
        "    if(seq_id in operon_gene_list):\n",
        "        seq_str = str(record.seq)\n",
        "        query_str+=\">\"+seq_id+\"\\n\"+seq_str+\"\\n\"\n",
        "query_str = query_str.replace(\"*\",\"\")"
      ],
      "metadata": {
        "id": "ULQziYVjl42R"
      },
      "execution_count": null,
      "outputs": []
    },
    {
      "cell_type": "markdown",
      "source": [
        "El proceso de búsqueda de dominios lo dividiremos en tres etapas:\n",
        "\n",
        "\n",
        "*   Envío de las secuencias\n",
        "*   Consulta del status del envío\n",
        "*   Descarga de resultados\n",
        "\n",
        "Cada etapa tiene una URL específica la cual definiremos a continuación"
      ],
      "metadata": {
        "id": "wsrOhFriBLc3"
      }
    },
    {
      "cell_type": "code",
      "source": [
        "submit_url   = \"https://www.ebi.ac.uk/Tools/services/rest/iprscan5/run\"\n",
        "progress_url = \"https://www.ebi.ac.uk/Tools/services/rest/iprscan5/status\"\n",
        "results_url  = \"https://www.ebi.ac.uk/Tools/services/rest/iprscan5/result\""
      ],
      "metadata": {
        "id": "pJZAJwbcl63s"
      },
      "execution_count": null,
      "outputs": []
    },
    {
      "cell_type": "code",
      "source": [
        "submit_headers   = {\"Accept\":\"text/plain\"}\n",
        "progress_headers = {\"Accept\":\"text/plain\"}\n",
        "results_headers  = {\"Accept\":\"text/tab-separated-values\"}"
      ],
      "metadata": {
        "id": "Q_tWJE9cl9jk"
      },
      "execution_count": null,
      "outputs": []
    },
    {
      "cell_type": "markdown",
      "source": [
        "Se construyo un diccionario de python que se adjunto a requests para buscar los dominios funcionales."
      ],
      "metadata": {
        "id": "UzmbBTomBYFr"
      }
    },
    {
      "cell_type": "code",
      "source": [
        "submit_data = {\"email\":\"esmemarcela@gmail.com\",\n",
        "               \"title\":\"operon_591_733\",\n",
        "               \"goterms\":\"false\",\n",
        "               \"pathways\":\"false\",\n",
        "               \"stype\":\"p\",\n",
        "               \"sequence\":query_str}"
      ],
      "metadata": {
        "id": "VAm8RNwRl9Ss"
      },
      "execution_count": null,
      "outputs": []
    },
    {
      "cell_type": "code",
      "source": [
        "submit_request = requests.post(submit_url,data=submit_data,headers=submit_headers)"
      ],
      "metadata": {
        "id": "bxvQL2aBmCcz"
      },
      "execution_count": null,
      "outputs": []
    },
    {
      "cell_type": "markdown",
      "source": [
        "La API de InterProScan entrega un código de estado y un job_id.\n",
        "> El código de salida del servidor web, nos indican si la solicitud fue exitosa:\n",
        ">>*   1xx informational response – the request was received, continuing process\n",
        "*     2xx successful – the request was successfully received, understood, and accepted\n",
        "*     3xx redirection – further action needs to be taken in order to complete the request\n",
        "*     4xx client error – the request contains bad syntax or cannot be fulfilled\n",
        "5xx server error – the server failed to fulfil an apparently valid request"
      ],
      "metadata": {
        "id": "BVs0o-rfmyae"
      }
    },
    {
      "cell_type": "code",
      "source": [
        "submit_status_code = submit_request.status_code\n",
        "submit_job_id      = submit_request.text"
      ],
      "metadata": {
        "id": "6X396l3InCs8"
      },
      "execution_count": null,
      "outputs": []
    },
    {
      "cell_type": "code",
      "source": [
        "print(submit_status_code)\n",
        "print(submit_job_id)\n",
        "#200\n",
        "#iprscan5-R20230317-063355-0367-69284551-p1m"
      ],
      "metadata": {
        "id": "LttXT8ylmCPp"
      },
      "execution_count": null,
      "outputs": []
    },
    {
      "cell_type": "code",
      "source": [
        "progress_request     = requests.get(progress_url+\"/\"+submit_job_id,headers=progress_headers)\n",
        "progress_status_code = progress_request.status_code\n",
        "progress_status      = progress_request.text\n",
        "print(progress_status_code)\n",
        "print(progress_status)\n",
        "#200\n",
        "#FINISHED"
      ],
      "metadata": {
        "id": "sM_Uj0TcnMU2"
      },
      "execution_count": null,
      "outputs": []
    },
    {
      "cell_type": "markdown",
      "source": [
        "Si se obtiene 200 la consulta fue exitosa. "
      ],
      "metadata": {
        "id": "m7fd85BWBr0U"
      }
    },
    {
      "cell_type": "code",
      "source": [
        "results_log_request = requests.get(results_url+\"/\"+submit_job_id+\"/log\",headers=results_headers)\n",
        "results_tsv_request = requests.get(results_url+\"/\"+submit_job_id+\"/tsv\",headers=results_headers)"
      ],
      "metadata": {
        "id": "_Zb2g5iDnTpk"
      },
      "execution_count": null,
      "outputs": []
    },
    {
      "cell_type": "code",
      "source": [
        "print(results_log_request.text)\n",
        "#17/03/2023 06:33:10:457 Welcome to InterProScan-5.61-93.0\n",
        "#17/03/2023 06:33:10:458 Running InterProScan v5 in STANDALONE mode... on Linux\n",
        "#17/03/2023 06:33:18:425 RunID: hh-wp-01-06.ebi.ac.uk_20230317_063318132_kgst\n",
        "#17/03/2023 06:33:31:523 Loading file /nfs/public/rw/es/projects/wp-jdispatcher/logs/prod/sources/jobs/iprscan5/rest/20230317/0632/iprscan5-R20230317-063355-0367-69284551-p1m.sequence\n",
        "#17/03/2023 06:33:31:525 Running the following analyses:\n",
        "#[AntiFam-7.0,CDD-3.20,Coils-2.2.1,FunFam-4.3.0,Gene3D-4.3.0,Hamap-2021_04,MobiDBLite-2.0,PANTHER-17.0,Pfam-35.0,Phobius-1.01,PIRSF-3.10,PIRSR-2021_05,PRINTS-42.0,ProSitePatterns-2022_05,ProSiteProfiles-2022_05,SFLD-4,SignalP_EUK-4.1,SignalP_GRAM_NEGATIVE-4.1,SignalP_GRAM_POSITIVE-4.1,SMART-9.0,SUPERFAMILY-1.75,TIGRFAM-15.0,TMHMM-2.0c]\n",
        "#Available matches will be retrieved from the pre-calculated match lookup service.\n",
        "\n",
        "#Matches for any sequences that are not represented in the lookup service will be calculated locally.\n",
        "#17/03/2023 06:33:37:090 27% completed\n",
        "#17/03/2023 06:33:49:220 54% completed\n",
        "#17/03/2023 06:33:55:577 81% completed\n",
        "#17/03/2023 06:33:56:103 90% completed\n",
        "#17/03/2023 06:34:01:735 100% done:  InterProScan analyses completed \n",
        "\n",
        "#2023-03-17 06:34:02,241 [main] [uk.ac.ebi.interpro.scan.jms.master.AbstractMaster:259] WARN - Master process unable to delete temporary directory /nfs/public/rw/es/projects/wp-jdispatcher/logs/prod/sources/jobs/iprscan5/rest/20230317/0632/temp/hh-wp-01-06.ebi.ac.uk_20230317_063318132_kgst"
      ],
      "metadata": {
        "id": "MZXWrjaDnL50"
      },
      "execution_count": null,
      "outputs": []
    },
    {
      "cell_type": "code",
      "source": [
        "results_tsv_str = StringIO(results_tsv_request.text)\n",
        "results_column_names = [\"sequence\",\"md5\",\"length\",\"database\",\"accession\",\"description\",\"start\",\"end\",\"evalue\",\"post_processed\",\"date\",\"entry\",\"name\"]\n",
        "results_df = pd.read_csv(results_tsv_str,sep=\"\\t\",names=results_column_names)\n",
        "results_df\n",
        "#Se obtiene una tabla con las secuencias candidatas para la resistencia antibioticas, se puede observar que la longitud de las secuencias son cortas por lo que se puede intuir que son plasmidos. "
      ],
      "metadata": {
        "id": "zcioUS_xnX93"
      },
      "execution_count": null,
      "outputs": []
    },
    {
      "cell_type": "markdown",
      "source": [
        "#8. Conclusiones"
      ],
      "metadata": {
        "id": "ZWYBfVFVhWhG"
      }
    },
    {
      "cell_type": "markdown",
      "source": [
        "De acuerdo a los resultados generados de este análisis se puede decir que es una herramienta clave para la búsqueda de genes en diferentes bases de datos como Genome-NCBI y UniProt con código, sin necesidad de interactuar con la pagina web. La aproximación que se realizó fue adecuada para cumplir el objetivo, sin embargo no se encontró como un operón si no mas bien los genes relacionados con  la resistencia antiobioticos que  provienen de elementos geneticos móviles como plasmidos, integrones o transposones; en este caso se observa que principalmente que son genes de enzimas como la Short-chain dehydrogenase/reductase SDR. \n",
        "\n",
        "Por otra parte gracias a este código se pudo descargar, predecir y comparar secuencias de un genoma con genomas de referencia en diferentes bancos de genes. Además de que se pudo visualizar en graficos de pyCirclize y seaborn de manera mas detallada los resultados y poder hacer una filtración posterior de los datos y solo obtener una tabla con los posibles genes asociados a las proteinas de interés. "
      ],
      "metadata": {
        "id": "KxOQ3e5yncFw"
      }
    }
  ]
}